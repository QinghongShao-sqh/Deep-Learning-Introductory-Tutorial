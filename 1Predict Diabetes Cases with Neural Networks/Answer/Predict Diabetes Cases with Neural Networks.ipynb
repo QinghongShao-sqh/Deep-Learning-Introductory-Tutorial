{
 "nbformat": 4,
 "nbformat_minor": 0,
 "metadata": {
  "colab": {
   "provenance": [
    {
     "file_id": "11IOxRh96G8NJwINMjCDaIhVB_rxfgL4M",
     "timestamp": 1671595256407
    }
   ],
   "toc_visible": true,
   "authorship_tag": "ABX9TyMqRWlRvf7Z//TTGbFRokht"
  },
  "kernelspec": {
   "name": "python3",
   "display_name": "Python 3"
  },
  "language_info": {
   "name": "python"
  }
 },
 "cells": [
  {
   "cell_type": "markdown",
   "source": [
    "#Predict Diabetes Cases with Neural Networks 1"
   ],
   "metadata": {
    "id": "RlBJShQ4tfB0"
   }
  },
  {
   "cell_type": "markdown",
   "source": [
    "This notebook shows how to load data, prepare data for training, build and train a model and evaluate a model after training. "
   ],
   "metadata": {
    "id": "YwSn2_WWtbjN"
   }
  },
  {
   "cell_type": "markdown",
   "source": [
    "##Load Data and Package"
   ],
   "metadata": {
    "id": "6nOA5hc30pX1"
   }
  },
  {
   "cell_type": "code",
   "execution_count": null,
   "metadata": {
    "colab": {
     "base_uri": "https://localhost:8080/"
    },
    "id": "KM8msjC7F61i",
    "executionInfo": {
     "status": "ok",
     "timestamp": 1673831964152,
     "user_tz": -480,
     "elapsed": 22431,
     "user": {
      "displayName": "Nick Wong",
      "userId": "06850344278256265436"
     }
    },
    "outputId": "cc0e09b6-11f2-441e-b5eb-027ff5dede8d"
   },
   "outputs": [
    {
     "output_type": "stream",
     "name": "stdout",
     "text": [
      "Mounted at /content/drive\n",
      "diabetes.csv\n"
     ]
    }
   ],
   "source": []
  },
  {
   "cell_type": "code",
   "source": [
    "#import library\n",
    "import numpy as np # linear algebra\n",
    "import pandas as pd # data processing, CSV file I/O (e.g. pd.read_csv)\n",
    "from tensorflow.keras.models import Sequential\n",
    "from tensorflow.keras.layers import Dense"
   ],
   "metadata": {
    "id": "bGVhvwqyNYHN"
   },
   "execution_count": 1,
   "outputs": [
    {
     "name": "stderr",
     "output_type": "stream",
     "text": [
      "F:\\anaconda\\lib\\site-packages\\scipy\\__init__.py:146: UserWarning: A NumPy version >=1.16.5 and <1.23.0 is required for this version of SciPy (detected version 1.24.3\n",
      "  warnings.warn(f\"A NumPy version >={np_minversion} and <{np_maxversion}\"\n"
     ]
    }
   ]
  },
  {
   "cell_type": "code",
   "source": [
    "#read data from csv\n",
    "diabetesData = pd.read_csv('N:/PolyuML/NeuralNetworks/data/diabetes/diabetes.csv')\n",
    "diabetesData.head()"
   ],
   "metadata": {
    "colab": {
     "base_uri": "https://localhost:8080/",
     "height": 206
    },
    "id": "nGeSnI5YNlqj",
    "executionInfo": {
     "status": "ok",
     "timestamp": 1673831967718,
     "user_tz": -480,
     "elapsed": 505,
     "user": {
      "displayName": "Nick Wong",
      "userId": "06850344278256265436"
     }
    },
    "outputId": "1db9b085-a790-456c-80be-92e21a448a42"
   },
   "execution_count": 2,
   "outputs": [
    {
     "data": {
      "text/plain": "   Pregnancies  Glucose  BloodPressure  SkinThickness  Insulin   BMI  \\\n0            6      148             72             35        0  33.6   \n1            1       85             66             29        0  26.6   \n2            8      183             64              0        0  23.3   \n3            1       89             66             23       94  28.1   \n4            0      137             40             35      168  43.1   \n\n   DiabetesPedigreeFunction  Age  Outcome  \n0                     0.627   50        1  \n1                     0.351   31        0  \n2                     0.672   32        1  \n3                     0.167   21        0  \n4                     2.288   33        1  ",
      "text/html": "<div>\n<style scoped>\n    .dataframe tbody tr th:only-of-type {\n        vertical-align: middle;\n    }\n\n    .dataframe tbody tr th {\n        vertical-align: top;\n    }\n\n    .dataframe thead th {\n        text-align: right;\n    }\n</style>\n<table border=\"1\" class=\"dataframe\">\n  <thead>\n    <tr style=\"text-align: right;\">\n      <th></th>\n      <th>Pregnancies</th>\n      <th>Glucose</th>\n      <th>BloodPressure</th>\n      <th>SkinThickness</th>\n      <th>Insulin</th>\n      <th>BMI</th>\n      <th>DiabetesPedigreeFunction</th>\n      <th>Age</th>\n      <th>Outcome</th>\n    </tr>\n  </thead>\n  <tbody>\n    <tr>\n      <th>0</th>\n      <td>6</td>\n      <td>148</td>\n      <td>72</td>\n      <td>35</td>\n      <td>0</td>\n      <td>33.6</td>\n      <td>0.627</td>\n      <td>50</td>\n      <td>1</td>\n    </tr>\n    <tr>\n      <th>1</th>\n      <td>1</td>\n      <td>85</td>\n      <td>66</td>\n      <td>29</td>\n      <td>0</td>\n      <td>26.6</td>\n      <td>0.351</td>\n      <td>31</td>\n      <td>0</td>\n    </tr>\n    <tr>\n      <th>2</th>\n      <td>8</td>\n      <td>183</td>\n      <td>64</td>\n      <td>0</td>\n      <td>0</td>\n      <td>23.3</td>\n      <td>0.672</td>\n      <td>32</td>\n      <td>1</td>\n    </tr>\n    <tr>\n      <th>3</th>\n      <td>1</td>\n      <td>89</td>\n      <td>66</td>\n      <td>23</td>\n      <td>94</td>\n      <td>28.1</td>\n      <td>0.167</td>\n      <td>21</td>\n      <td>0</td>\n    </tr>\n    <tr>\n      <th>4</th>\n      <td>0</td>\n      <td>137</td>\n      <td>40</td>\n      <td>35</td>\n      <td>168</td>\n      <td>43.1</td>\n      <td>2.288</td>\n      <td>33</td>\n      <td>1</td>\n    </tr>\n  </tbody>\n</table>\n</div>"
     },
     "execution_count": 2,
     "metadata": {},
     "output_type": "execute_result"
    }
   ]
  },
  {
   "cell_type": "code",
   "source": [],
   "metadata": {
    "id": "qjdVlXNiUUWP"
   },
   "execution_count": 2,
   "outputs": []
  },
  {
   "cell_type": "code",
   "source": [
    "#count outcome\n",
    "diabetesData.groupby(\"Outcome\")[[\"Outcome\"]].count()"
   ],
   "metadata": {
    "colab": {
     "base_uri": "https://localhost:8080/",
     "height": 143
    },
    "id": "VFd7Bm4bRaAn",
    "executionInfo": {
     "status": "ok",
     "timestamp": 1673834554038,
     "user_tz": -480,
     "elapsed": 5,
     "user": {
      "displayName": "Nick Wong",
      "userId": "06850344278256265436"
     }
    },
    "outputId": "ecfb7d79-a089-4974-b092-daebc1e613ea"
   },
   "execution_count": 3,
   "outputs": [
    {
     "data": {
      "text/plain": "         Outcome\nOutcome         \n0            500\n1            268",
      "text/html": "<div>\n<style scoped>\n    .dataframe tbody tr th:only-of-type {\n        vertical-align: middle;\n    }\n\n    .dataframe tbody tr th {\n        vertical-align: top;\n    }\n\n    .dataframe thead th {\n        text-align: right;\n    }\n</style>\n<table border=\"1\" class=\"dataframe\">\n  <thead>\n    <tr style=\"text-align: right;\">\n      <th></th>\n      <th>Outcome</th>\n    </tr>\n    <tr>\n      <th>Outcome</th>\n      <th></th>\n    </tr>\n  </thead>\n  <tbody>\n    <tr>\n      <th>0</th>\n      <td>500</td>\n    </tr>\n    <tr>\n      <th>1</th>\n      <td>268</td>\n    </tr>\n  </tbody>\n</table>\n</div>"
     },
     "execution_count": 3,
     "metadata": {},
     "output_type": "execute_result"
    }
   ]
  },
  {
   "cell_type": "code",
   "source": [
    "#% of each group\n",
    "diabetesData.groupby(\"Outcome\")[[\"Outcome\"]].count().apply(lambda my_df: my_df*100 / my_df.sum())"
   ],
   "metadata": {
    "colab": {
     "base_uri": "https://localhost:8080/",
     "height": 143
    },
    "id": "L634q2TgTAuk",
    "executionInfo": {
     "status": "ok",
     "timestamp": 1673834531283,
     "user_tz": -480,
     "elapsed": 244,
     "user": {
      "displayName": "Nick Wong",
      "userId": "06850344278256265436"
     }
    },
    "outputId": "527ec34c-9d4d-4d39-f84e-60c63fdb37d3"
   },
   "execution_count": 4,
   "outputs": [
    {
     "data": {
      "text/plain": "           Outcome\nOutcome           \n0        65.104167\n1        34.895833",
      "text/html": "<div>\n<style scoped>\n    .dataframe tbody tr th:only-of-type {\n        vertical-align: middle;\n    }\n\n    .dataframe tbody tr th {\n        vertical-align: top;\n    }\n\n    .dataframe thead th {\n        text-align: right;\n    }\n</style>\n<table border=\"1\" class=\"dataframe\">\n  <thead>\n    <tr style=\"text-align: right;\">\n      <th></th>\n      <th>Outcome</th>\n    </tr>\n    <tr>\n      <th>Outcome</th>\n      <th></th>\n    </tr>\n  </thead>\n  <tbody>\n    <tr>\n      <th>0</th>\n      <td>65.104167</td>\n    </tr>\n    <tr>\n      <th>1</th>\n      <td>34.895833</td>\n    </tr>\n  </tbody>\n</table>\n</div>"
     },
     "execution_count": 4,
     "metadata": {},
     "output_type": "execute_result"
    }
   ]
  },
  {
   "cell_type": "markdown",
   "source": [
    "##Prepare Data for Training"
   ],
   "metadata": {
    "id": "8x09_unP1H4T"
   }
  },
  {
   "cell_type": "code",
   "source": [
    "#convert dataframe to numpy for training\n",
    "dataset = diabetesData.to_numpy()"
   ],
   "metadata": {
    "id": "b-eEI_NrNtsL"
   },
   "execution_count": 5,
   "outputs": []
  },
  {
   "cell_type": "markdown",
   "source": [
    "to_numpy() - convert dataframe to numpy format.<BR>\n",
    "https://pandas.pydata.org/pandas-docs/stable/reference/api/pandas.DataFrame.to_numpy.html"
   ],
   "metadata": {
    "id": "AQ4ErYdbN3FV"
   }
  },
  {
   "cell_type": "code",
   "source": [
    "#take a look of numpy dataset\n",
    "dataset[0:5]"
   ],
   "metadata": {
    "colab": {
     "base_uri": "https://localhost:8080/"
    },
    "id": "k-5wkY97N07z",
    "executionInfo": {
     "status": "ok",
     "timestamp": 1673831967719,
     "user_tz": -480,
     "elapsed": 9,
     "user": {
      "displayName": "Nick Wong",
      "userId": "06850344278256265436"
     }
    },
    "outputId": "0b71f74b-ac4d-4748-9a38-f9181d14fd11"
   },
   "execution_count": 6,
   "outputs": [
    {
     "data": {
      "text/plain": "array([[6.000e+00, 1.480e+02, 7.200e+01, 3.500e+01, 0.000e+00, 3.360e+01,\n        6.270e-01, 5.000e+01, 1.000e+00],\n       [1.000e+00, 8.500e+01, 6.600e+01, 2.900e+01, 0.000e+00, 2.660e+01,\n        3.510e-01, 3.100e+01, 0.000e+00],\n       [8.000e+00, 1.830e+02, 6.400e+01, 0.000e+00, 0.000e+00, 2.330e+01,\n        6.720e-01, 3.200e+01, 1.000e+00],\n       [1.000e+00, 8.900e+01, 6.600e+01, 2.300e+01, 9.400e+01, 2.810e+01,\n        1.670e-01, 2.100e+01, 0.000e+00],\n       [0.000e+00, 1.370e+02, 4.000e+01, 3.500e+01, 1.680e+02, 4.310e+01,\n        2.288e+00, 3.300e+01, 1.000e+00]])"
     },
     "execution_count": 6,
     "metadata": {},
     "output_type": "execute_result"
    }
   ]
  },
  {
   "cell_type": "markdown",
   "source": [
    "After converted to numpy, it is machine readable, but not human readable formats. 😅"
   ],
   "metadata": {
    "id": "YLnf2FSyN8xb"
   }
  },
  {
   "cell_type": "code",
   "source": [
    "#import library to split train and test data\n",
    "from sklearn.model_selection import train_test_split"
   ],
   "metadata": {
    "id": "WqiMElL6N52r"
   },
   "execution_count": 7,
   "outputs": []
  },
  {
   "cell_type": "code",
   "source": [
    "# define the keras model\n",
    "model = Sequential()\n",
    "model.add(Dense(12, input_shape=(8,), activation='relu'))\n",
    "model.add(Dense(8, activation='relu'))\n",
    "model.add(Dense(1, activation='sigmoid'))\n"
   ],
   "metadata": {
    "id": "3-oz2SX8OD87"
   },
   "execution_count": 8,
   "outputs": []
  },
  {
   "cell_type": "markdown",
   "source": [
    "![link text](https://miro.medium.com/max/1400/1*XxxiA0jJvPrHEJHD4z893g.png)\n",
    "<BR>\n",
    "Sigmoid's output (y-axis) are always 0 or 1. <BR>\n",
    "ReLU's output (y-axis) are always 0, 1, 2, 3, 4, 5...etc<BR>\n",
    "ReLU is more popular to be used in deep learning as it is faster and avoid vanishing graidients problem."
   ],
   "metadata": {
    "id": "IESBGXFxOMNN"
   }
  },
  {
   "cell_type": "code",
   "source": [
    "#check the model summary\n",
    "model.summary()"
   ],
   "metadata": {
    "colab": {
     "base_uri": "https://localhost:8080/"
    },
    "id": "QBV2oysnOJcb",
    "executionInfo": {
     "status": "ok",
     "timestamp": 1673831968859,
     "user_tz": -480,
     "elapsed": 481,
     "user": {
      "displayName": "Nick Wong",
      "userId": "06850344278256265436"
     }
    },
    "outputId": "51b1b7f3-1584-48c7-925e-2d84e2a1598f"
   },
   "execution_count": 9,
   "outputs": [
    {
     "name": "stdout",
     "output_type": "stream",
     "text": [
      "Model: \"sequential\"\n",
      "_________________________________________________________________\n",
      " Layer (type)                Output Shape              Param #   \n",
      "=================================================================\n",
      " dense (Dense)               (None, 12)                108       \n",
      "                                                                 \n",
      " dense_1 (Dense)             (None, 8)                 104       \n",
      "                                                                 \n",
      " dense_2 (Dense)             (None, 1)                 9         \n",
      "                                                                 \n",
      "=================================================================\n",
      "Total params: 221 (884.00 Byte)\n",
      "Trainable params: 221 (884.00 Byte)\n",
      "Non-trainable params: 0 (0.00 Byte)\n",
      "_________________________________________________________________\n"
     ]
    }
   ]
  },
  {
   "cell_type": "markdown",
   "source": [
    "We have 3 layers neural networks. <BR>\n",
    "input_shape=(8,) - the model have 8 inputs. (correspond to the 8 columns of input data)<BR>\n",
    "1st layer - layer1, which have 12 nodes . <BR>\n",
    "2nd layer - layer2, which have 8 nodes.<BR>\n",
    "3rd layer - layer3, output layer, which have 1 node.<BR>"
   ],
   "metadata": {
    "id": "sNzJB-jMOmxL"
   }
  },
  {
   "cell_type": "markdown",
   "source": [
    "##Model Training"
   ],
   "metadata": {
    "id": "zuxszn2L1TQq"
   }
  },
  {
   "cell_type": "code",
   "source": [
    "# compile the keras model\n",
    "model.compile(loss='binary_crossentropy', optimizer='adam', metrics=['accuracy'])"
   ],
   "metadata": {
    "id": "KLgSHA-rOP0z"
   },
   "execution_count": 10,
   "outputs": []
  },
  {
   "cell_type": "markdown",
   "source": [
    "![link text](https://developers.google.com/machine-learning/crash-course/images/LossSideBySide.png)\n",
    "<BR>\n",
    "**Loss** is the penalty for a bad prediction. That is, loss is a number indicating how bad the model's prediction was on a single example. If the model's prediction is perfect, the loss is zero; otherwise, the loss is greater.<BR>\n",
    "\n",
    "An **optimizer** is a function or an algorithm that modifies the attributes of the neural network, such as weights and learning rate. Thus, it helps in reducing the overall loss and improve the accuracy.<BR>\n",
    "\n"
   ],
   "metadata": {
    "id": "_xFXM95AOw5c"
   }
  },
  {
   "cell_type": "code",
   "source": [
    "#split the dataset to X (input) and y (output)\n",
    "X = dataset[:,0:8]\n",
    "y = dataset[:,8]"
   ],
   "metadata": {
    "id": "wexQmt1PPJRa"
   },
   "execution_count": 11,
   "outputs": []
  },
  {
   "cell_type": "code",
   "source": [
    "# fit the keras model on the dataset\n",
    "model.fit(X, y, epochs=200, batch_size=12)"
   ],
   "metadata": {
    "colab": {
     "base_uri": "https://localhost:8080/"
    },
    "id": "h63Hc4ryOuHo",
    "executionInfo": {
     "status": "ok",
     "timestamp": 1673831991589,
     "user_tz": -480,
     "elapsed": 22736,
     "user": {
      "displayName": "Nick Wong",
      "userId": "06850344278256265436"
     }
    },
    "outputId": "8df459ad-f57c-4f38-8f93-1da1cf95d511"
   },
   "execution_count": 12,
   "outputs": [
    {
     "name": "stdout",
     "output_type": "stream",
     "text": [
      "Epoch 1/200\n",
      "64/64 [==============================] - 1s 968us/step - loss: 3.9616 - accuracy: 0.6302\n",
      "Epoch 2/200\n",
      "64/64 [==============================] - 0s 714us/step - loss: 1.3481 - accuracy: 0.5781\n",
      "Epoch 3/200\n",
      "64/64 [==============================] - 0s 762us/step - loss: 1.1231 - accuracy: 0.6276\n",
      "Epoch 4/200\n",
      "64/64 [==============================] - 0s 746us/step - loss: 0.9527 - accuracy: 0.6198\n",
      "Epoch 5/200\n",
      "64/64 [==============================] - 0s 794us/step - loss: 0.8468 - accuracy: 0.6094\n",
      "Epoch 6/200\n",
      "64/64 [==============================] - 0s 746us/step - loss: 0.7797 - accuracy: 0.6094\n",
      "Epoch 7/200\n",
      "64/64 [==============================] - 0s 730us/step - loss: 0.7587 - accuracy: 0.6172\n",
      "Epoch 8/200\n",
      "64/64 [==============================] - 0s 746us/step - loss: 0.7209 - accuracy: 0.6471\n",
      "Epoch 9/200\n",
      "64/64 [==============================] - 0s 778us/step - loss: 0.6966 - accuracy: 0.6289\n",
      "Epoch 10/200\n",
      "64/64 [==============================] - 0s 746us/step - loss: 0.6862 - accuracy: 0.6419\n",
      "Epoch 11/200\n",
      "64/64 [==============================] - 0s 730us/step - loss: 0.7101 - accuracy: 0.6341\n",
      "Epoch 12/200\n",
      "64/64 [==============================] - 0s 746us/step - loss: 0.6603 - accuracy: 0.6432\n",
      "Epoch 13/200\n",
      "64/64 [==============================] - 0s 841us/step - loss: 0.6451 - accuracy: 0.6706\n",
      "Epoch 14/200\n",
      "64/64 [==============================] - 0s 714us/step - loss: 0.6528 - accuracy: 0.6602\n",
      "Epoch 15/200\n",
      "64/64 [==============================] - 0s 714us/step - loss: 0.6338 - accuracy: 0.6693\n",
      "Epoch 16/200\n",
      "64/64 [==============================] - 0s 683us/step - loss: 0.6348 - accuracy: 0.6654\n",
      "Epoch 17/200\n",
      "64/64 [==============================] - 0s 714us/step - loss: 0.6221 - accuracy: 0.6784\n",
      "Epoch 18/200\n",
      "64/64 [==============================] - 0s 714us/step - loss: 0.6127 - accuracy: 0.7057\n",
      "Epoch 19/200\n",
      "64/64 [==============================] - 0s 714us/step - loss: 0.6064 - accuracy: 0.6992\n",
      "Epoch 20/200\n",
      "64/64 [==============================] - 0s 730us/step - loss: 0.6146 - accuracy: 0.6810\n",
      "Epoch 21/200\n",
      "64/64 [==============================] - 0s 714us/step - loss: 0.6217 - accuracy: 0.6706\n",
      "Epoch 22/200\n",
      "64/64 [==============================] - 0s 746us/step - loss: 0.6143 - accuracy: 0.6940\n",
      "Epoch 23/200\n",
      "64/64 [==============================] - 0s 746us/step - loss: 0.6218 - accuracy: 0.6784\n",
      "Epoch 24/200\n",
      "64/64 [==============================] - 0s 762us/step - loss: 0.6036 - accuracy: 0.6940\n",
      "Epoch 25/200\n",
      "64/64 [==============================] - 0s 730us/step - loss: 0.5999 - accuracy: 0.6953\n",
      "Epoch 26/200\n",
      "64/64 [==============================] - 0s 683us/step - loss: 0.6029 - accuracy: 0.7005\n",
      "Epoch 27/200\n",
      "64/64 [==============================] - 0s 714us/step - loss: 0.5960 - accuracy: 0.7070\n",
      "Epoch 28/200\n",
      "64/64 [==============================] - 0s 698us/step - loss: 0.5925 - accuracy: 0.6979\n",
      "Epoch 29/200\n",
      "64/64 [==============================] - 0s 698us/step - loss: 0.6056 - accuracy: 0.6823\n",
      "Epoch 30/200\n",
      "64/64 [==============================] - 0s 828us/step - loss: 0.5917 - accuracy: 0.7122\n",
      "Epoch 31/200\n",
      "64/64 [==============================] - 0s 730us/step - loss: 0.5900 - accuracy: 0.7109\n",
      "Epoch 32/200\n",
      "64/64 [==============================] - 0s 714us/step - loss: 0.5838 - accuracy: 0.7174\n",
      "Epoch 33/200\n",
      "64/64 [==============================] - 0s 683us/step - loss: 0.5915 - accuracy: 0.7057\n",
      "Epoch 34/200\n",
      "64/64 [==============================] - 0s 698us/step - loss: 0.5718 - accuracy: 0.7083\n",
      "Epoch 35/200\n",
      "64/64 [==============================] - 0s 667us/step - loss: 0.5791 - accuracy: 0.7214\n",
      "Epoch 36/200\n",
      "64/64 [==============================] - 0s 683us/step - loss: 0.5815 - accuracy: 0.7122\n",
      "Epoch 37/200\n",
      "64/64 [==============================] - 0s 663us/step - loss: 0.5723 - accuracy: 0.7109\n",
      "Epoch 38/200\n",
      "64/64 [==============================] - 0s 667us/step - loss: 0.5836 - accuracy: 0.7070\n",
      "Epoch 39/200\n",
      "64/64 [==============================] - 0s 683us/step - loss: 0.5701 - accuracy: 0.7174\n",
      "Epoch 40/200\n",
      "64/64 [==============================] - 0s 667us/step - loss: 0.5719 - accuracy: 0.7135\n",
      "Epoch 41/200\n",
      "64/64 [==============================] - 0s 667us/step - loss: 0.5758 - accuracy: 0.7122\n",
      "Epoch 42/200\n",
      "64/64 [==============================] - 0s 667us/step - loss: 0.5738 - accuracy: 0.7201\n",
      "Epoch 43/200\n",
      "64/64 [==============================] - 0s 683us/step - loss: 0.5706 - accuracy: 0.7018\n",
      "Epoch 44/200\n",
      "64/64 [==============================] - 0s 683us/step - loss: 0.5610 - accuracy: 0.7240\n",
      "Epoch 45/200\n",
      "64/64 [==============================] - 0s 698us/step - loss: 0.5649 - accuracy: 0.7109\n",
      "Epoch 46/200\n",
      "64/64 [==============================] - 0s 683us/step - loss: 0.5581 - accuracy: 0.7266\n",
      "Epoch 47/200\n",
      "64/64 [==============================] - 0s 698us/step - loss: 0.5741 - accuracy: 0.7057\n",
      "Epoch 48/200\n",
      "64/64 [==============================] - 0s 683us/step - loss: 0.5644 - accuracy: 0.7188\n",
      "Epoch 49/200\n",
      "64/64 [==============================] - 0s 667us/step - loss: 0.5657 - accuracy: 0.7227\n",
      "Epoch 50/200\n",
      "64/64 [==============================] - 0s 667us/step - loss: 0.5570 - accuracy: 0.7305\n",
      "Epoch 51/200\n",
      "64/64 [==============================] - 0s 651us/step - loss: 0.5509 - accuracy: 0.7253\n",
      "Epoch 52/200\n",
      "64/64 [==============================] - 0s 651us/step - loss: 0.5755 - accuracy: 0.7122\n",
      "Epoch 53/200\n",
      "64/64 [==============================] - 0s 667us/step - loss: 0.5691 - accuracy: 0.7070\n",
      "Epoch 54/200\n",
      "64/64 [==============================] - 0s 651us/step - loss: 0.5515 - accuracy: 0.7331\n",
      "Epoch 55/200\n",
      "64/64 [==============================] - 0s 667us/step - loss: 0.5468 - accuracy: 0.7240\n",
      "Epoch 56/200\n",
      "64/64 [==============================] - 0s 683us/step - loss: 0.5542 - accuracy: 0.7266\n",
      "Epoch 57/200\n",
      "64/64 [==============================] - 0s 682us/step - loss: 0.5475 - accuracy: 0.7357\n",
      "Epoch 58/200\n",
      "64/64 [==============================] - 0s 667us/step - loss: 0.5549 - accuracy: 0.7435\n",
      "Epoch 59/200\n",
      "64/64 [==============================] - 0s 683us/step - loss: 0.5460 - accuracy: 0.7214\n",
      "Epoch 60/200\n",
      "64/64 [==============================] - 0s 667us/step - loss: 0.5577 - accuracy: 0.7214\n",
      "Epoch 61/200\n",
      "64/64 [==============================] - 0s 683us/step - loss: 0.5470 - accuracy: 0.7292\n",
      "Epoch 62/200\n",
      "64/64 [==============================] - 0s 683us/step - loss: 0.5458 - accuracy: 0.7383\n",
      "Epoch 63/200\n",
      "64/64 [==============================] - 0s 667us/step - loss: 0.5552 - accuracy: 0.7188\n",
      "Epoch 64/200\n",
      "64/64 [==============================] - 0s 667us/step - loss: 0.5372 - accuracy: 0.7305\n",
      "Epoch 65/200\n",
      "64/64 [==============================] - 0s 667us/step - loss: 0.5530 - accuracy: 0.7305\n",
      "Epoch 66/200\n",
      "64/64 [==============================] - 0s 667us/step - loss: 0.5392 - accuracy: 0.7370\n",
      "Epoch 67/200\n",
      "64/64 [==============================] - 0s 683us/step - loss: 0.5405 - accuracy: 0.7279\n",
      "Epoch 68/200\n",
      "64/64 [==============================] - 0s 683us/step - loss: 0.5360 - accuracy: 0.7396\n",
      "Epoch 69/200\n",
      "64/64 [==============================] - 0s 667us/step - loss: 0.5517 - accuracy: 0.7344\n",
      "Epoch 70/200\n",
      "64/64 [==============================] - 0s 683us/step - loss: 0.5405 - accuracy: 0.7383\n",
      "Epoch 71/200\n",
      "64/64 [==============================] - 0s 683us/step - loss: 0.5509 - accuracy: 0.7214\n",
      "Epoch 72/200\n",
      "64/64 [==============================] - 0s 682us/step - loss: 0.5532 - accuracy: 0.7240\n",
      "Epoch 73/200\n",
      "64/64 [==============================] - 0s 667us/step - loss: 0.5384 - accuracy: 0.7474\n",
      "Epoch 74/200\n",
      "64/64 [==============================] - 0s 683us/step - loss: 0.5444 - accuracy: 0.7396\n",
      "Epoch 75/200\n",
      "64/64 [==============================] - 0s 667us/step - loss: 0.5375 - accuracy: 0.7435\n",
      "Epoch 76/200\n",
      "64/64 [==============================] - 0s 683us/step - loss: 0.5349 - accuracy: 0.7409\n",
      "Epoch 77/200\n",
      "64/64 [==============================] - 0s 667us/step - loss: 0.5346 - accuracy: 0.7409\n",
      "Epoch 78/200\n",
      "64/64 [==============================] - 0s 683us/step - loss: 0.5413 - accuracy: 0.7448\n",
      "Epoch 79/200\n",
      "64/64 [==============================] - 0s 683us/step - loss: 0.5453 - accuracy: 0.7292\n",
      "Epoch 80/200\n",
      "64/64 [==============================] - 0s 683us/step - loss: 0.5304 - accuracy: 0.7539\n",
      "Epoch 81/200\n",
      "64/64 [==============================] - 0s 683us/step - loss: 0.5343 - accuracy: 0.7422\n",
      "Epoch 82/200\n",
      "64/64 [==============================] - 0s 683us/step - loss: 0.5459 - accuracy: 0.7279\n",
      "Epoch 83/200\n",
      "64/64 [==============================] - 0s 682us/step - loss: 0.5402 - accuracy: 0.7552\n",
      "Epoch 84/200\n",
      "64/64 [==============================] - 0s 668us/step - loss: 0.5442 - accuracy: 0.7422\n",
      "Epoch 85/200\n",
      "64/64 [==============================] - 0s 657us/step - loss: 0.5331 - accuracy: 0.7422\n",
      "Epoch 86/200\n",
      "64/64 [==============================] - 0s 667us/step - loss: 0.5276 - accuracy: 0.7448\n",
      "Epoch 87/200\n",
      "64/64 [==============================] - 0s 667us/step - loss: 0.5358 - accuracy: 0.7409\n",
      "Epoch 88/200\n",
      "64/64 [==============================] - 0s 667us/step - loss: 0.5293 - accuracy: 0.7461\n",
      "Epoch 89/200\n",
      "64/64 [==============================] - 0s 667us/step - loss: 0.5283 - accuracy: 0.7474\n",
      "Epoch 90/200\n",
      "64/64 [==============================] - 0s 683us/step - loss: 0.5265 - accuracy: 0.7461\n",
      "Epoch 91/200\n",
      "64/64 [==============================] - 0s 667us/step - loss: 0.5193 - accuracy: 0.7591\n",
      "Epoch 92/200\n",
      "64/64 [==============================] - 0s 667us/step - loss: 0.5422 - accuracy: 0.7409\n",
      "Epoch 93/200\n",
      "64/64 [==============================] - 0s 683us/step - loss: 0.5328 - accuracy: 0.7422\n",
      "Epoch 94/200\n",
      "64/64 [==============================] - 0s 683us/step - loss: 0.5216 - accuracy: 0.7526\n",
      "Epoch 95/200\n",
      "64/64 [==============================] - 0s 683us/step - loss: 0.5325 - accuracy: 0.7396\n",
      "Epoch 96/200\n",
      "64/64 [==============================] - 0s 683us/step - loss: 0.5317 - accuracy: 0.7487\n",
      "Epoch 97/200\n",
      "64/64 [==============================] - 0s 651us/step - loss: 0.5178 - accuracy: 0.7565\n",
      "Epoch 98/200\n",
      "64/64 [==============================] - 0s 651us/step - loss: 0.5173 - accuracy: 0.7474\n",
      "Epoch 99/200\n",
      "64/64 [==============================] - 0s 683us/step - loss: 0.5279 - accuracy: 0.7552\n",
      "Epoch 100/200\n",
      "64/64 [==============================] - 0s 651us/step - loss: 0.5256 - accuracy: 0.7526\n",
      "Epoch 101/200\n",
      "64/64 [==============================] - 0s 651us/step - loss: 0.5254 - accuracy: 0.7526\n",
      "Epoch 102/200\n",
      "64/64 [==============================] - 0s 667us/step - loss: 0.5260 - accuracy: 0.7578\n",
      "Epoch 103/200\n",
      "64/64 [==============================] - 0s 683us/step - loss: 0.5200 - accuracy: 0.7526\n",
      "Epoch 104/200\n",
      "64/64 [==============================] - 0s 667us/step - loss: 0.5087 - accuracy: 0.7669\n",
      "Epoch 105/200\n",
      "64/64 [==============================] - 0s 667us/step - loss: 0.5195 - accuracy: 0.7383\n",
      "Epoch 106/200\n",
      "64/64 [==============================] - 0s 683us/step - loss: 0.5100 - accuracy: 0.7500\n",
      "Epoch 107/200\n",
      "64/64 [==============================] - 0s 667us/step - loss: 0.5166 - accuracy: 0.7721\n",
      "Epoch 108/200\n",
      "64/64 [==============================] - 0s 683us/step - loss: 0.5118 - accuracy: 0.7565\n",
      "Epoch 109/200\n",
      "64/64 [==============================] - 0s 667us/step - loss: 0.5286 - accuracy: 0.7305\n",
      "Epoch 110/200\n",
      "64/64 [==============================] - 0s 660us/step - loss: 0.5055 - accuracy: 0.7682\n",
      "Epoch 111/200\n",
      "64/64 [==============================] - 0s 651us/step - loss: 0.5283 - accuracy: 0.7344\n",
      "Epoch 112/200\n",
      "64/64 [==============================] - 0s 667us/step - loss: 0.5126 - accuracy: 0.7539\n",
      "Epoch 113/200\n",
      "64/64 [==============================] - 0s 651us/step - loss: 0.5148 - accuracy: 0.7409\n",
      "Epoch 114/200\n",
      "64/64 [==============================] - 0s 667us/step - loss: 0.5134 - accuracy: 0.7513\n",
      "Epoch 115/200\n",
      "64/64 [==============================] - 0s 679us/step - loss: 0.5075 - accuracy: 0.7526\n",
      "Epoch 116/200\n",
      "64/64 [==============================] - 0s 683us/step - loss: 0.5068 - accuracy: 0.7552\n",
      "Epoch 117/200\n",
      "64/64 [==============================] - 0s 683us/step - loss: 0.5081 - accuracy: 0.7643\n",
      "Epoch 118/200\n",
      "64/64 [==============================] - 0s 683us/step - loss: 0.5134 - accuracy: 0.7526\n",
      "Epoch 119/200\n",
      "64/64 [==============================] - 0s 683us/step - loss: 0.5272 - accuracy: 0.7526\n",
      "Epoch 120/200\n",
      "64/64 [==============================] - 0s 651us/step - loss: 0.5210 - accuracy: 0.7448\n",
      "Epoch 121/200\n",
      "64/64 [==============================] - 0s 651us/step - loss: 0.5130 - accuracy: 0.7539\n",
      "Epoch 122/200\n",
      "64/64 [==============================] - 0s 651us/step - loss: 0.5082 - accuracy: 0.7669\n",
      "Epoch 123/200\n",
      "64/64 [==============================] - 0s 667us/step - loss: 0.5144 - accuracy: 0.7396\n",
      "Epoch 124/200\n",
      "64/64 [==============================] - 0s 683us/step - loss: 0.5081 - accuracy: 0.7604\n",
      "Epoch 125/200\n",
      "64/64 [==============================] - 0s 667us/step - loss: 0.5120 - accuracy: 0.7643\n",
      "Epoch 126/200\n",
      "64/64 [==============================] - 0s 651us/step - loss: 0.5061 - accuracy: 0.7565\n",
      "Epoch 127/200\n",
      "64/64 [==============================] - 0s 667us/step - loss: 0.5168 - accuracy: 0.7526\n",
      "Epoch 128/200\n",
      "64/64 [==============================] - 0s 683us/step - loss: 0.4990 - accuracy: 0.7630\n",
      "Epoch 129/200\n",
      "64/64 [==============================] - 0s 651us/step - loss: 0.5038 - accuracy: 0.7604\n",
      "Epoch 130/200\n",
      "64/64 [==============================] - 0s 667us/step - loss: 0.5141 - accuracy: 0.7565\n",
      "Epoch 131/200\n",
      "64/64 [==============================] - 0s 667us/step - loss: 0.4978 - accuracy: 0.7747\n",
      "Epoch 132/200\n",
      "64/64 [==============================] - 0s 667us/step - loss: 0.5032 - accuracy: 0.7617\n",
      "Epoch 133/200\n",
      "64/64 [==============================] - 0s 683us/step - loss: 0.5013 - accuracy: 0.7617\n",
      "Epoch 134/200\n",
      "64/64 [==============================] - 0s 683us/step - loss: 0.5025 - accuracy: 0.7526\n",
      "Epoch 135/200\n",
      "64/64 [==============================] - 0s 667us/step - loss: 0.5090 - accuracy: 0.7565\n",
      "Epoch 136/200\n",
      "64/64 [==============================] - 0s 667us/step - loss: 0.4985 - accuracy: 0.7656\n",
      "Epoch 137/200\n",
      "64/64 [==============================] - 0s 667us/step - loss: 0.4982 - accuracy: 0.7695\n",
      "Epoch 138/200\n",
      "64/64 [==============================] - 0s 683us/step - loss: 0.5133 - accuracy: 0.7487\n",
      "Epoch 139/200\n",
      "64/64 [==============================] - 0s 667us/step - loss: 0.4998 - accuracy: 0.7643\n",
      "Epoch 140/200\n",
      "64/64 [==============================] - 0s 667us/step - loss: 0.4958 - accuracy: 0.7617\n",
      "Epoch 141/200\n",
      "64/64 [==============================] - 0s 667us/step - loss: 0.5071 - accuracy: 0.7656\n",
      "Epoch 142/200\n",
      "64/64 [==============================] - 0s 667us/step - loss: 0.4958 - accuracy: 0.7695\n",
      "Epoch 143/200\n",
      "64/64 [==============================] - 0s 667us/step - loss: 0.4994 - accuracy: 0.7656\n",
      "Epoch 144/200\n",
      "64/64 [==============================] - 0s 667us/step - loss: 0.5095 - accuracy: 0.7578\n",
      "Epoch 145/200\n",
      "64/64 [==============================] - 0s 655us/step - loss: 0.4982 - accuracy: 0.7656\n",
      "Epoch 146/200\n",
      "64/64 [==============================] - 0s 683us/step - loss: 0.4976 - accuracy: 0.7643\n",
      "Epoch 147/200\n",
      "64/64 [==============================] - 0s 683us/step - loss: 0.4996 - accuracy: 0.7526\n",
      "Epoch 148/200\n",
      "64/64 [==============================] - 0s 667us/step - loss: 0.4967 - accuracy: 0.7604\n",
      "Epoch 149/200\n",
      "64/64 [==============================] - 0s 683us/step - loss: 0.4957 - accuracy: 0.7591\n",
      "Epoch 150/200\n",
      "64/64 [==============================] - 0s 667us/step - loss: 0.4965 - accuracy: 0.7721\n",
      "Epoch 151/200\n",
      "64/64 [==============================] - 0s 683us/step - loss: 0.4983 - accuracy: 0.7695\n",
      "Epoch 152/200\n",
      "64/64 [==============================] - 0s 667us/step - loss: 0.4939 - accuracy: 0.7695\n",
      "Epoch 153/200\n",
      "64/64 [==============================] - 0s 667us/step - loss: 0.4996 - accuracy: 0.7630\n",
      "Epoch 154/200\n",
      "64/64 [==============================] - 0s 667us/step - loss: 0.4909 - accuracy: 0.7708\n",
      "Epoch 155/200\n",
      "64/64 [==============================] - 0s 667us/step - loss: 0.4879 - accuracy: 0.7669\n",
      "Epoch 156/200\n",
      "64/64 [==============================] - 0s 667us/step - loss: 0.5032 - accuracy: 0.7617\n",
      "Epoch 157/200\n",
      "64/64 [==============================] - 0s 683us/step - loss: 0.5021 - accuracy: 0.7513\n",
      "Epoch 158/200\n",
      "64/64 [==============================] - 0s 667us/step - loss: 0.4932 - accuracy: 0.7643\n",
      "Epoch 159/200\n",
      "64/64 [==============================] - 0s 667us/step - loss: 0.4923 - accuracy: 0.7630\n",
      "Epoch 160/200\n",
      "64/64 [==============================] - 0s 683us/step - loss: 0.4768 - accuracy: 0.7695\n",
      "Epoch 161/200\n",
      "64/64 [==============================] - 0s 667us/step - loss: 0.5111 - accuracy: 0.7552\n",
      "Epoch 162/200\n",
      "64/64 [==============================] - 0s 698us/step - loss: 0.4870 - accuracy: 0.7799\n",
      "Epoch 163/200\n",
      "64/64 [==============================] - 0s 698us/step - loss: 0.4952 - accuracy: 0.7630\n",
      "Epoch 164/200\n",
      "64/64 [==============================] - 0s 698us/step - loss: 0.5032 - accuracy: 0.7604\n",
      "Epoch 165/200\n",
      "64/64 [==============================] - 0s 698us/step - loss: 0.4898 - accuracy: 0.7604\n",
      "Epoch 166/200\n",
      "64/64 [==============================] - 0s 683us/step - loss: 0.4820 - accuracy: 0.7643\n",
      "Epoch 167/200\n",
      "64/64 [==============================] - 0s 698us/step - loss: 0.4824 - accuracy: 0.7734\n",
      "Epoch 168/200\n",
      "64/64 [==============================] - 0s 683us/step - loss: 0.4973 - accuracy: 0.7708\n",
      "Epoch 169/200\n",
      "64/64 [==============================] - 0s 683us/step - loss: 0.4945 - accuracy: 0.7656\n",
      "Epoch 170/200\n",
      "64/64 [==============================] - 0s 683us/step - loss: 0.4835 - accuracy: 0.7604\n",
      "Epoch 171/200\n",
      "64/64 [==============================] - 0s 698us/step - loss: 0.4857 - accuracy: 0.7682\n",
      "Epoch 172/200\n",
      "64/64 [==============================] - 0s 683us/step - loss: 0.4826 - accuracy: 0.7708\n",
      "Epoch 173/200\n",
      "64/64 [==============================] - 0s 667us/step - loss: 0.4856 - accuracy: 0.7865\n",
      "Epoch 174/200\n",
      "64/64 [==============================] - 0s 667us/step - loss: 0.4940 - accuracy: 0.7617\n",
      "Epoch 175/200\n",
      "64/64 [==============================] - 0s 670us/step - loss: 0.4808 - accuracy: 0.7786\n",
      "Epoch 176/200\n",
      "64/64 [==============================] - 0s 667us/step - loss: 0.4827 - accuracy: 0.7747\n",
      "Epoch 177/200\n",
      "64/64 [==============================] - 0s 683us/step - loss: 0.4846 - accuracy: 0.7669\n",
      "Epoch 178/200\n",
      "64/64 [==============================] - 0s 683us/step - loss: 0.4851 - accuracy: 0.7865\n",
      "Epoch 179/200\n",
      "64/64 [==============================] - 0s 698us/step - loss: 0.4767 - accuracy: 0.7786\n",
      "Epoch 180/200\n",
      "64/64 [==============================] - 0s 683us/step - loss: 0.4844 - accuracy: 0.7669\n",
      "Epoch 181/200\n",
      "64/64 [==============================] - 0s 683us/step - loss: 0.4818 - accuracy: 0.7786\n",
      "Epoch 182/200\n",
      "64/64 [==============================] - 0s 667us/step - loss: 0.4908 - accuracy: 0.7708\n",
      "Epoch 183/200\n",
      "64/64 [==============================] - 0s 667us/step - loss: 0.4781 - accuracy: 0.7695\n",
      "Epoch 184/200\n",
      "64/64 [==============================] - 0s 667us/step - loss: 0.4858 - accuracy: 0.7760\n",
      "Epoch 185/200\n",
      "64/64 [==============================] - 0s 683us/step - loss: 0.4777 - accuracy: 0.7695\n",
      "Epoch 186/200\n",
      "64/64 [==============================] - 0s 683us/step - loss: 0.4784 - accuracy: 0.7734\n",
      "Epoch 187/200\n",
      "64/64 [==============================] - 0s 683us/step - loss: 0.4877 - accuracy: 0.7747\n",
      "Epoch 188/200\n",
      "64/64 [==============================] - 0s 683us/step - loss: 0.4908 - accuracy: 0.7747\n",
      "Epoch 189/200\n",
      "64/64 [==============================] - 0s 683us/step - loss: 0.4719 - accuracy: 0.7747\n",
      "Epoch 190/200\n",
      "64/64 [==============================] - 0s 683us/step - loss: 0.4746 - accuracy: 0.7826\n",
      "Epoch 191/200\n",
      "64/64 [==============================] - 0s 698us/step - loss: 0.4702 - accuracy: 0.7812\n",
      "Epoch 192/200\n",
      "64/64 [==============================] - 0s 667us/step - loss: 0.4773 - accuracy: 0.7747\n",
      "Epoch 193/200\n",
      "64/64 [==============================] - 0s 667us/step - loss: 0.4750 - accuracy: 0.7734\n",
      "Epoch 194/200\n",
      "64/64 [==============================] - 0s 667us/step - loss: 0.4788 - accuracy: 0.7812\n",
      "Epoch 195/200\n",
      "64/64 [==============================] - 0s 667us/step - loss: 0.4757 - accuracy: 0.7630\n",
      "Epoch 196/200\n",
      "64/64 [==============================] - 0s 667us/step - loss: 0.4663 - accuracy: 0.7839\n",
      "Epoch 197/200\n",
      "64/64 [==============================] - 0s 683us/step - loss: 0.4763 - accuracy: 0.7734\n",
      "Epoch 198/200\n",
      "64/64 [==============================] - 0s 683us/step - loss: 0.4773 - accuracy: 0.7812\n",
      "Epoch 199/200\n",
      "64/64 [==============================] - 0s 686us/step - loss: 0.4687 - accuracy: 0.7812\n",
      "Epoch 200/200\n",
      "64/64 [==============================] - 0s 683us/step - loss: 0.4707 - accuracy: 0.7852\n"
     ]
    },
    {
     "data": {
      "text/plain": "<keras.src.callbacks.History at 0x1bdf0104d30>"
     },
     "execution_count": 12,
     "metadata": {},
     "output_type": "execute_result"
    }
   ]
  },
  {
   "cell_type": "markdown",
   "source": [
    "![link text](https://www.baeldung.com/wp-content/uploads/sites/4/2020/12/epoch-batch-size.png)\n",
    "<BR>\n",
    "The **batch size** is a number of samples processed before the model is updated. The number of **epochs** is the number of complete passes through the training dataset.<BR>\n",
    "We can tune the batch size and epochs to see if a better result can be got.<BR>"
   ],
   "metadata": {
    "id": "WTlAjwz_Qa_H"
   }
  },
  {
   "cell_type": "markdown",
   "source": [
    "##Model Evaluation"
   ],
   "metadata": {
    "id": "8ECnHDmQ1oYC"
   }
  },
  {
   "cell_type": "code",
   "source": [
    "#evaluate the keras model\n",
    "_, accuracy = model.evaluate(X, y)\n",
    "print('Accuracy: %.2f' %(accuracy*100))"
   ],
   "metadata": {
    "colab": {
     "base_uri": "https://localhost:8080/"
    },
    "id": "6q4FkuyqO5vK",
    "executionInfo": {
     "status": "ok",
     "timestamp": 1673831992056,
     "user_tz": -480,
     "elapsed": 480,
     "user": {
      "displayName": "Nick Wong",
      "userId": "06850344278256265436"
     }
    },
    "outputId": "81a80d42-9ece-4b8c-a54d-ea76ff639493"
   },
   "execution_count": 13,
   "outputs": [
    {
     "name": "stdout",
     "output_type": "stream",
     "text": [
      "24/24 [==============================] - 0s 696us/step - loss: 0.4587 - accuracy: 0.7747\n",
      "Accuracy: 77.47\n"
     ]
    }
   ]
  },
  {
   "cell_type": "code",
   "source": [
    "# make class predictions with the model\n",
    "predictions = (model.predict(X) > 0.5).astype(int)"
   ],
   "metadata": {
    "colab": {
     "base_uri": "https://localhost:8080/"
    },
    "id": "dfkHvr6bPhpx",
    "executionInfo": {
     "status": "ok",
     "timestamp": 1673831992057,
     "user_tz": -480,
     "elapsed": 9,
     "user": {
      "displayName": "Nick Wong",
      "userId": "06850344278256265436"
     }
    },
    "outputId": "046f6ea0-3efe-4695-83f7-257f28c75ffa"
   },
   "execution_count": 14,
   "outputs": [
    {
     "name": "stdout",
     "output_type": "stream",
     "text": [
      "24/24 [==============================] - 0s 565us/step\n"
     ]
    }
   ]
  },
  {
   "cell_type": "code",
   "source": [
    "# predict for some cases\n",
    "for i in range(5):\n",
    " print('%s => %d (expected %d)' % (X[i].tolist(), predictions[i], y[i]))"
   ],
   "metadata": {
    "colab": {
     "base_uri": "https://localhost:8080/"
    },
    "id": "wLb1waEnP5AJ",
    "executionInfo": {
     "status": "ok",
     "timestamp": 1673831992057,
     "user_tz": -480,
     "elapsed": 7,
     "user": {
      "displayName": "Nick Wong",
      "userId": "06850344278256265436"
     }
    },
    "outputId": "76023e1f-1711-4e30-a124-a910c23f5373"
   },
   "execution_count": 15,
   "outputs": [
    {
     "name": "stdout",
     "output_type": "stream",
     "text": [
      "[6.0, 148.0, 72.0, 35.0, 0.0, 33.6, 0.627, 50.0] => 1 (expected 1)\n",
      "[1.0, 85.0, 66.0, 29.0, 0.0, 26.6, 0.351, 31.0] => 0 (expected 0)\n",
      "[8.0, 183.0, 64.0, 0.0, 0.0, 23.3, 0.672, 32.0] => 1 (expected 1)\n",
      "[1.0, 89.0, 66.0, 23.0, 94.0, 28.1, 0.167, 21.0] => 0 (expected 0)\n",
      "[0.0, 137.0, 40.0, 35.0, 168.0, 43.1, 2.288, 33.0] => 1 (expected 1)\n"
     ]
    }
   ]
  },
  {
   "cell_type": "markdown",
   "source": [
    "##Exercise<BR>\n",
    "1. Change the number of batch size to 12. Record your accuracy. Does it get better?\n",
    "<BR>\n",
    "2. Change the number of epochs to 300. (Keep batch size as 10) Record your accuracy. Does it get better?<BR>\n",
    "3. Change the number of batch size to 12 and epochs to 300. Record your accuracy. Does it get better?<BR>"
   ],
   "metadata": {
    "id": "33gp_F-pRLwK"
   }
  },
  {
   "cell_type": "code",
   "execution_count": null,
   "outputs": [],
   "source": [],
   "metadata": {
    "collapsed": false,
    "pycharm": {
     "name": "#%%\n"
    }
   }
  }
 ]
}